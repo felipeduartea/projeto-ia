kmeans = KMeans(n_clusters=3, random_state=0, n_init='auto')
kmeans.fit(X_train)

accuracy = kmeans.score(X_train)
print("Accuracy:", accuracy)